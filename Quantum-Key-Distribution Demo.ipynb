{
 "cells": [
  {
   "cell_type": "markdown",
   "metadata": {},
   "source": [
    "# Mock Quantum Key Distribution System\n",
    "Below is a demonstration of Quantum Key Distripution(QKD) based on the BB84 Protocol."
   ]
  },
  {
   "cell_type": "markdown",
   "metadata": {},
   "source": [
    "## Random Bit Generator\n"
   ]
  },
  {
   "cell_type": "code",
   "execution_count": 320,
   "metadata": {
    "collapsed": false
   },
   "outputs": [],
   "source": [
    "import random\n",
    "count = 0\n",
    "alice_bits = []\n",
    "\n",
    "while count < 1000000:\n",
    "    bit = random.randint(0, 1)\n",
    "    alice_bits.append(bit)\n",
    "    count += 1\n",
    "#print (\"Alice's bits:\",alice_bits)       "
   ]
  },
  {
   "cell_type": "markdown",
   "metadata": {},
   "source": [
    "## Polarization Generators"
   ]
  },
  {
   "cell_type": "code",
   "execution_count": 321,
   "metadata": {
    "collapsed": false
   },
   "outputs": [],
   "source": [
    "# Rectilinear Polerization Generator\n",
    "def RectGen ( bit ):\n",
    "    if bit == 1:\n",
    "        qubit = u'\\u2195'\n",
    "        \n",
    "    elif bit == 0:\n",
    "        qubit = u'\\u2194'\n",
    "    return qubit\n",
    "\n",
    "#Diagnal Polorization Generator\n",
    "def DiagGen ( bit ):\n",
    "    if bit == 1:\n",
    "        qubit = u'\\u2196'\n",
    "    \n",
    "    elif bit == 0:\n",
    "        qubit = u'\\u2197'   \n",
    "    return qubit"
   ]
  },
  {
   "cell_type": "markdown",
   "metadata": {},
   "source": [
    "### Random Polarization Generator\n",
    "This function randomly selects ane uses either a rectilinear or diagonal polarization generator as each bit is fed into it. It then outputs the result and the generator used to calulate it. "
   ]
  },
  {
   "cell_type": "code",
   "execution_count": 322,
   "metadata": {
    "collapsed": false
   },
   "outputs": [],
   "source": [
    "def RandGen(bit):\n",
    "    n = random.randint(0, 1)\n",
    "    \n",
    "    if n == 0:\n",
    "        result = RectGen(bit)\n",
    "        gen = \"R\"\n",
    "        \n",
    "    elif n == 1:\n",
    "        result = DiagGen(bit)\n",
    "        gen = \"D\"\n",
    "    return result, gen"
   ]
  },
  {
   "cell_type": "markdown",
   "metadata": {},
   "source": [
    "### Alice's results"
   ]
  },
  {
   "cell_type": "code",
   "execution_count": 323,
   "metadata": {
    "collapsed": false
   },
   "outputs": [],
   "source": [
    "alice_qubits = []\n",
    "alice_polChoice = []\n",
    "for bit in alice_bits:\n",
    "    Generate = RandGen(bit)\n",
    "    alice_polChoice.append(Generate[1])\n",
    "    alice_qubits.append(Generate[0])\n",
    "\n",
    "#print (\"Alice's Qubits:\",alice_qubits)\n",
    "#print (\"Alice's Polarity Choices:\",alice_polChoice)     "
   ]
  },
  {
   "cell_type": "markdown",
   "metadata": {},
   "source": [
    "## Polarization Dectors"
   ]
  },
  {
   "cell_type": "code",
   "execution_count": 324,
   "metadata": {
    "collapsed": true
   },
   "outputs": [],
   "source": [
    "#Rectilinear Polarization Dector\n",
    "def RectDect (qubit ):\n",
    "    if qubit == \"↕\":\n",
    "        bit = 1\n",
    "    \n",
    "    elif qubit == \"↔\":\n",
    "        bit = 0\n",
    "    \n",
    "    else:\n",
    "        bit = random.randint(0, 1)    \n",
    "    return bit\n",
    "\n",
    "#Diagnal Polarization Dector\n",
    "def DiagDect (qubit ):\n",
    "    if qubit == \"↖\":\n",
    "        bit = 1\n",
    "    \n",
    "    elif qubit == \"↗\":\n",
    "        bit = 0\n",
    "    \n",
    "    else:\n",
    "        bit = random.randint(0, 1)  \n",
    "    return bit        "
   ]
  },
  {
   "cell_type": "markdown",
   "metadata": {},
   "source": [
    "\n",
    "## Random Polarity Selector\n",
    "As Bob receives qubits from Alice, he will randomly select a polarity dectector to filter each qubit through. He will record the resulting bit and also annotate which dector he used to filter each qubit.   \n"
   ]
  },
  {
   "cell_type": "code",
   "execution_count": 325,
   "metadata": {
    "collapsed": false
   },
   "outputs": [],
   "source": [
    "def RandPolSel (qubit):\n",
    "    process = random.randint(1, 2)\n",
    "    if process == 1:\n",
    "        polfilter = \"R\"\n",
    "        polgen = RectDect(qubit)\n",
    "\n",
    "    elif process == 2:\n",
    "        polfilter = \"D\"\n",
    "        polgen = DiagDect(qubit)\n",
    "    return polfilter, polgen"
   ]
  },
  {
   "cell_type": "code",
   "execution_count": null,
   "metadata": {
    "collapsed": true
   },
   "outputs": [],
   "source": []
  },
  {
   "cell_type": "markdown",
   "metadata": {},
   "source": [
    "## If Eve is in the Middle"
   ]
  },
  {
   "cell_type": "code",
   "execution_count": 326,
   "metadata": {
    "collapsed": true
   },
   "outputs": [],
   "source": [
    "eve_bits = []\n",
    "eve_polChoice = []\n",
    "\n",
    "#Capture the Qubits From Alice\n",
    "for qubit in alice_qubits:\n",
    "    result = RandPolSel(qubit)\n",
    "    eve_bits.append(result[1])\n",
    "    eve_polChoice.append(result[0])\n",
    "\n",
    "#Send Qubits to Bob by pretending to be Alice\n",
    "alice_qubits = []\n",
    "alice_polChoice = []\n",
    "for bit in eve_bits:\n",
    "    Generate = RandGen(bit)\n",
    "    alice_polChoice.append(Generate[1])\n",
    "    alice_qubits.append(Generate[0])\n",
    "\n",
    "#print (\"Alice's Qubits:\",alice_qubits)\n",
    "#print (\"Alice's Polarity Choices:\",alice_polChoice)         "
   ]
  },
  {
   "cell_type": "markdown",
   "metadata": {},
   "source": [
    "### Bob's Results"
   ]
  },
  {
   "cell_type": "code",
   "execution_count": 327,
   "metadata": {
    "collapsed": false
   },
   "outputs": [],
   "source": [
    "bob_bits = []\n",
    "bob_polChoice = []\n",
    "\n",
    "for qubit in alice_qubits:\n",
    "    result = RandPolSel(qubit)\n",
    "    bob_bits.append(result[1])\n",
    "    bob_polChoice.append(result[0])"
   ]
  },
  {
   "cell_type": "code",
   "execution_count": 328,
   "metadata": {
    "collapsed": false
   },
   "outputs": [],
   "source": [
    "#print (bob_bits)"
   ]
  },
  {
   "cell_type": "code",
   "execution_count": 329,
   "metadata": {
    "collapsed": false
   },
   "outputs": [],
   "source": [
    "#print (bob_polChoice)"
   ]
  },
  {
   "cell_type": "markdown",
   "metadata": {},
   "source": [
    "## Compare Alice's and Bob's Polarity Choices\n",
    "Over a clasical channel, Bob will send Alice a list of his polarity choices for the qubits he received. Alice reviews his choices ant tells him which ones are correct. The ones that do not match are thrown out. the remaing bits are now the raw key.  The next step is now to determing if the raw key is private."
   ]
  },
  {
   "cell_type": "code",
   "execution_count": 330,
   "metadata": {
    "collapsed": false
   },
   "outputs": [],
   "source": [
    "maxcount = len(alice_polChoice)\n",
    "count = 0\n",
    "keepindx = []\n",
    "while count < maxcount:\n",
    "    alice_base = alice_polChoice[count]\n",
    "    bob_base = bob_polChoice[count]\n",
    "    \n",
    "    if alice_base == bob_base:\n",
    "        keepindx.append(count)\n",
    "        \n",
    "    count += 1"
   ]
  },
  {
   "cell_type": "code",
   "execution_count": 331,
   "metadata": {
    "collapsed": false
   },
   "outputs": [
    {
     "name": "stdout",
     "output_type": "stream",
     "text": [
      "Matching polarity: 500101\n",
      "Bob's raw key length: 500101\n",
      "Alice's raw key length: 500101\n"
     ]
    }
   ],
   "source": [
    "\n",
    "matchcount = len(keepindx)\n",
    "print (\"Matching polarity:\", len(keepindx))\n",
    "\n",
    "bob_rawkey = []\n",
    "for id in keepindx:\n",
    "    bob_rawkey.append(bob_bits[id])\n",
    "print (\"Bob's raw key length:\",len(bob_rawkey))\n",
    "\n",
    "alice_rawkey = []\n",
    "for id in keepindx:\n",
    "    alice_rawkey.append(alice_bits[id])\n",
    "print (\"Alice's raw key length:\", len(alice_rawkey))    "
   ]
  },
  {
   "cell_type": "markdown",
   "metadata": {},
   "source": [
    "## Determine if key is secure\n",
    "To determine if the key is truly private and has not been tampered with in transit Alice and bob will reveal a few random bits of their raw keys to see if they match. (The random number must be non-repeating and once used, must be removed from the rawkey data sets of both Alice and Bob.) As you will see below their are 0 errors, In this case we can be assuered that the key has not been compromised. We can then use this key to encrypt our traffic over any classical channel and be assured a high level of provacy. "
   ]
  },
  {
   "cell_type": "code",
   "execution_count": 332,
   "metadata": {
    "collapsed": false
   },
   "outputs": [
    {
     "name": "stdout",
     "output_type": "stream",
     "text": [
      "ErrorRate: 0.25\n",
      "Accuracy: 0.75\n",
      "GoodKeys: 123503\n",
      "BadKeys: 41530\n",
      "Alice's New raw key length: 335068\n",
      "Bob's raw key length: 335068\n"
     ]
    }
   ],
   "source": [
    "#pick 1/3 of the random bits and compare \n",
    "\n",
    "mpoints = round((matchcount *.33),0)\n",
    "keyschecked = mpoints\n",
    "goodkeys = 0\n",
    "badkeys = 0\n",
    "\n",
    "while mpoints > 0:\n",
    "    \n",
    "    Sample = random.sample(range(0,(matchcount - 1)), 1)\n",
    "\n",
    "\n",
    "    for testkey in Sample:\n",
    "        if bob_rawkey[testkey] == alice_rawkey[testkey]:\n",
    "            goodkeys += 1\n",
    "            del bob_rawkey[testkey] #removing keys after being used\n",
    "            del alice_rawkey[testkey] #removing keys after being used\n",
    "        else:\n",
    "            badkeys += 1\n",
    "            del bob_rawkey[testkey]\n",
    "            del alice_rawkey[testkey]\n",
    "        mpoints -= 1\n",
    "        matchcount -= 1\n",
    "print (\"ErrorRate:\", round((badkeys/keyschecked),2))\n",
    "print (\"Accuracy:\", round((goodkeys/keyschecked),2))\n",
    "print (\"GoodKeys:\", goodkeys)\n",
    "print (\"BadKeys:\", badkeys)\n",
    "print (\"Alice's New raw key length:\", len(alice_rawkey))\n",
    "print (\"Bob's raw key length:\",len(bob_rawkey))"
   ]
  },
  {
   "cell_type": "code",
   "execution_count": 333,
   "metadata": {
    "collapsed": false
   },
   "outputs": [
    {
     "name": "stdout",
     "output_type": "stream",
     "text": [
      "110572.0\n",
      "335068\n"
     ]
    }
   ],
   "source": [
    "mpoints = round((matchcount *.33),0)\n",
    "print (mpoints)\n",
    "print (matchcount)"
   ]
  },
  {
   "cell_type": "code",
   "execution_count": null,
   "metadata": {
    "collapsed": true
   },
   "outputs": [],
   "source": []
  }
 ],
 "metadata": {
  "kernelspec": {
   "display_name": "Python 3",
   "language": "python",
   "name": "python3"
  },
  "language_info": {
   "codemirror_mode": {
    "name": "ipython",
    "version": 3
   },
   "file_extension": ".py",
   "mimetype": "text/x-python",
   "name": "python",
   "nbconvert_exporter": "python",
   "pygments_lexer": "ipython3",
   "version": "3.5.1"
  }
 },
 "nbformat": 4,
 "nbformat_minor": 0
}
